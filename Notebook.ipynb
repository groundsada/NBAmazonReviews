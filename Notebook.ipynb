{
 "cells": [
  {
   "cell_type": "markdown",
   "id": "749d2c71",
   "metadata": {},
   "source": [
    "### \n",
    "### This notebook to configure the preprocessing and cleanup of the dataset\n",
    "### "
   ]
  },
  {
   "cell_type": "code",
   "execution_count": 1,
   "id": "de62ed5f",
   "metadata": {},
   "outputs": [],
   "source": [
    "### \n",
    "### Import libraries\n",
    "### \n",
    "\n",
    "try:\n",
    "    import numpy as np\n",
    "    import pandas as pd\n",
    "    import bz2\n",
    "    import re\n",
    "    import os\n",
    "    import gc\n",
    "\n",
    "    import matplotlib.pyplot as plt\n",
    "    import seaborn as sns\n",
    "\n",
    "    from nltk.corpus import stopwords\n",
    "\n",
    "    import os\n",
    "    import shutil\n",
    "    import tarfile\n",
    "    import zipfile\n",
    "    import nltk\n",
    "    import random\n",
    "    import math\n",
    "    from nltk.corpus import stopwords\n",
    "    from nltk.stem import PorterStemmer\n",
    "    from prettytable import PrettyTable\n",
    "    from collections import defaultdict\n",
    "except:\n",
    "    print('Error loading required libraries. Please check requirements.txt to make sure you have the required dependencies!')\n",
    "    print('Program will exit. Dependencies required to work.')"
   ]
  },
  {
   "cell_type": "code",
   "execution_count": 2,
   "id": "71af9fd6",
   "metadata": {},
   "outputs": [
    {
     "name": "stdout",
     "output_type": "stream",
     "text": [
      "Dataset already downloaded!\n",
      "Error downloading and extracting the dataset.\n",
      "Please make sure you have all the requirements in requirements.txt\n",
      "The program will continue...\n",
      "Please make sure you have the dataset extracted and ready in the \"input\" folder.\n"
     ]
    }
   ],
   "source": [
    "### \n",
    "### Connecting to Kaggle, downloading and extracting the dataset\n",
    "### \n",
    "\n",
    "try: \n",
    "    if os.path.exists('input/test.ft.txt.bz2') and os.path.exists('input/train.ft.txt.bz2'):\n",
    "        print(\"Dataset already downloaded!\")\n",
    "    else:\n",
    "        os.environ['KAGGLE_USERNAME'] = \"XXXXXXXXXXXXXX\"\n",
    "        os.environ['KAGGLE_KEY'] = \"XXXXXXXXXXXXXXXXXXXXXXXXX\"\n",
    "\n",
    "        !kaggle datasets download -d bittlingmayer/amazonreviews\n",
    "        shutil.move('amazonreviews.zip', 'input/amazonreviews.zip')\n",
    "        with zipfile.ZipFile('input/amazonreviews.zip', 'r') as zip_ref:\n",
    "            zip_ref.extractall('input/')\n",
    "    os.remove('input/amazonreviews.zip')\n",
    "except:\n",
    "    print('Error downloading and extracting the dataset.\\nPlease make sure you have all the requirements in requirements.txt\\nThe program will continue...\\nPlease make sure you have the dataset extracted and ready in the \"input\" folder.')"
   ]
  },
  {
   "cell_type": "code",
   "execution_count": 3,
   "id": "2e8458f3",
   "metadata": {},
   "outputs": [
    {
     "name": "stdout",
     "output_type": "stream",
     "text": [
      "Loading the bz2 files. This may take a few minutes.\n"
     ]
    }
   ],
   "source": [
    "### \n",
    "### Loading the dataset\n",
    "### \n",
    "\n",
    "print('Loading the bz2 files. This may take a few minutes.')\n",
    "\n",
    "train_file = bz2.BZ2File('input/train.ft.txt.bz2')\n",
    "test_file = bz2.BZ2File('input/test.ft.txt.bz2')\n",
    "\n",
    "\n",
    "train_file_lines = train_file.readlines()\n",
    "test_file_lines = test_file.readlines()"
   ]
  },
  {
   "cell_type": "code",
   "execution_count": 4,
   "id": "719b5646",
   "metadata": {},
   "outputs": [
    {
     "name": "stdout",
     "output_type": "stream",
     "text": [
      "Training data length: 3600000\n",
      "Testing data length: 400000\n",
      "The ratio is: 9:1\n"
     ]
    }
   ],
   "source": [
    "print('Training data length:' ,len(train_file_lines))\n",
    "print('Testing data length:' ,len(test_file_lines))\n",
    "print('The ratio is: ', len(train_file_lines)//len(test_file_lines),':1', sep = '')"
   ]
  },
  {
   "cell_type": "code",
   "execution_count": 5,
   "id": "5c42bae3",
   "metadata": {},
   "outputs": [
    {
     "data": {
      "text/plain": [
       "100000"
      ]
     },
     "execution_count": 5,
     "metadata": {},
     "output_type": "execute_result"
    }
   ],
   "source": [
    "### \n",
    "### The assignment asks for a 80/20 split, therefore, we combine the two sets and split them later\n",
    "### The dataset is huge, and 4,000,000 is a very huge length\n",
    "### We chnage our approach and take a subset of 100,000\n",
    "\n",
    "#dataset = train_file_lines + test_file_lines\n",
    "dataset = train_file_lines[:100000]\n",
    "len(dataset)"
   ]
  },
  {
   "cell_type": "code",
   "execution_count": 6,
   "id": "e45928a4",
   "metadata": {
    "scrolled": true
   },
   "outputs": [
    {
     "data": {
      "text/plain": [
       "bytes"
      ]
     },
     "execution_count": 6,
     "metadata": {},
     "output_type": "execute_result"
    }
   ],
   "source": [
    "dataset[0]\n",
    "type(dataset[0])"
   ]
  },
  {
   "cell_type": "code",
   "execution_count": 7,
   "id": "2fdaad3a",
   "metadata": {},
   "outputs": [],
   "source": [
    "### \n",
    "### Data preparation: decode and extract labels\n",
    "### \n",
    "\n",
    "dataset = [x.decode('utf-8') for x in dataset]"
   ]
  },
  {
   "cell_type": "code",
   "execution_count": 8,
   "id": "431fb44e",
   "metadata": {},
   "outputs": [
    {
     "data": {
      "text/plain": [
       "'__label__2 Stuning even for the non-gamer: This sound track was beautiful! It paints the senery in your mind so well I would recomend it even to people who hate vid. game music! I have played the game Chrono Cross but out of all of the games I have ever played it has the best music! It backs away from crude keyboarding and takes a fresher step with grate guitars and soulful orchestras. It would impress anyone who cares to listen! ^_^\\n'"
      ]
     },
     "execution_count": 8,
     "metadata": {},
     "output_type": "execute_result"
    }
   ],
   "source": [
    "dataset[0]"
   ]
  },
  {
   "cell_type": "code",
   "execution_count": 9,
   "id": "0827e6d8",
   "metadata": {},
   "outputs": [],
   "source": [
    "dataset_labels = [0 if x.split(' ')[0] == '__label__1' else 1 for x in dataset]"
   ]
  },
  {
   "cell_type": "code",
   "execution_count": 10,
   "id": "b8241b46",
   "metadata": {},
   "outputs": [
    {
     "data": {
      "image/png": "[encoded data removed]",
      "text/plain": [
       "<Figure size 640x480 with 1 Axes>"
      ]
     },
     "metadata": {},
     "output_type": "display_data"
    }
   ],
   "source": [
    "sns.countplot(x= dataset_labels)\n",
    "plt.title('Label distribution')\n",
    "plt.show()"
   ]
  },
  {
   "cell_type": "code",
   "execution_count": 11,
   "id": "1df8302d",
   "metadata": {},
   "outputs": [],
   "source": [
    "### \n",
    "### Data preparation: extract taining data\n",
    "### \n",
    "\n",
    "dataset = [x.split(' ', 1)[1][:-1] for x in dataset]"
   ]
  },
  {
   "cell_type": "code",
   "execution_count": 12,
   "id": "200b0c01",
   "metadata": {},
   "outputs": [
    {
     "name": "stdout",
     "output_type": "stream",
     "text": [
      "Stuning even for the non-gamer: This sound track was beautiful! It paints the senery in your mind so well I would recomend it even to people who hate vid. game music! I have played the game Chrono Cross but out of all of the games I have ever played it has the best music! It backs away from crude keyboarding and takes a fresher step with grate guitars and soulful orchestras. It would impress anyone who cares to listen! ^_^\n"
     ]
    }
   ],
   "source": [
    "print(dataset[0])"
   ]
  },
  {
   "cell_type": "code",
   "execution_count": 13,
   "id": "f6c7e962",
   "metadata": {},
   "outputs": [
    {
     "data": {
      "text/plain": [
       "Text(0.5, 1.0, 'Word Frequency Distribution')"
      ]
     },
     "execution_count": 13,
     "metadata": {},
     "output_type": "execute_result"
    },
    {
     "data": {
      "image/png": "[encoded data removed]",
      "text/plain": [
       "<Figure size 640x480 with 1 Axes>"
      ]
     },
     "metadata": {},
     "output_type": "display_data"
    }
   ],
   "source": [
    "sentences_size = list(map(lambda x: len(x.split()), dataset))\n",
    "sns.histplot(sentences_size)\n",
    "plt.xlabel(\"Num of words\")\n",
    "plt.ylabel(\"Frequency\")\n",
    "plt.title(\"Word Frequency Distribution\")"
   ]
  },
  {
   "cell_type": "code",
   "execution_count": 14,
   "id": "e536d7fd",
   "metadata": {},
   "outputs": [],
   "source": [
    "### \n",
    "### Data preparation: cleaning out URLs\n",
    "### \n",
    "\n",
    "for i in range(len(dataset)):\n",
    "    if 'www.' in dataset[i] or 'http:' in dataset[i] or 'https:' in dataset[i] or '.com' in dataset[i]:\n",
    "        dataset[i] = re.sub(r\"([^ ]+(?<=\\.[a-z]{3}))\", \"<url>\", dataset[i])"
   ]
  },
  {
   "cell_type": "code",
   "execution_count": 15,
   "id": "ae7217b7",
   "metadata": {
    "scrolled": true
   },
   "outputs": [
    {
     "data": {
      "text/plain": [
       "\"Bad Deal!!: I ordered this DVD and received a substitute I never received the DVD I ordered from Importcds (the Vendor). I contacted them and did not recieve any feedback. I can't rate a DVD I have never seen. I didn't bother to send it back because it would have cost me more that I orginally paid for it. In the future I will watch for the name of the person and/or persons I am buying from. I thought they were a good company. I understand a simple mistake but, to not get a response at all is not good businees sense. I spend hundreds of dollars a month on <url> building my DVD collection. I guess I will be more careful in the future.\""
      ]
     },
     "execution_count": 15,
     "metadata": {},
     "output_type": "execute_result"
    }
   ],
   "source": [
    "list(filter(lambda x: '<url>' in x, dataset))[0]"
   ]
  },
  {
   "cell_type": "code",
   "execution_count": 16,
   "id": "3fde823e",
   "metadata": {},
   "outputs": [],
   "source": [
    "IGNORE = 'NO'"
   ]
  },
  {
   "cell_type": "code",
   "execution_count": 17,
   "id": "becdd5e7",
   "metadata": {},
   "outputs": [
    {
     "name": "stderr",
     "output_type": "stream",
     "text": [
      "[nltk_data] Downloading package stopwords to /home/firas/nltk_data...\n",
      "[nltk_data]   Package stopwords is already up-to-date!\n",
      "[nltk_data] Downloading package punkt to /home/firas/nltk_data...\n",
      "[nltk_data]   Package punkt is already up-to-date!\n"
     ]
    }
   ],
   "source": [
    "### \n",
    "### Data preprocessing\n",
    "### \n",
    "\n",
    "nltk.download('stopwords')\n",
    "nltk.download('punkt')\n",
    "stop_words = set(stopwords.words('english'))\n",
    "stemmer = PorterStemmer()\n",
    "for i in range(len(dataset)):\n",
    "    words = nltk.tokenize.wordpunct_tokenize(dataset[i].lower())\n",
    "    if IGNORE == 'NO':\n",
    "        words = [word for word in words if word not in stop_words]\n",
    "    words = [stemmer.stem(word) for word in words]\n",
    "    dataset[i] = words\n",
    "\n"
   ]
  },
  {
   "cell_type": "code",
   "execution_count": 18,
   "id": "9b5ef3b2",
   "metadata": {
    "scrolled": true
   },
   "outputs": [
    {
     "data": {
      "text/plain": [
       "['absolut',\n",
       " 'masterpiec',\n",
       " ':',\n",
       " 'quit',\n",
       " 'sure',\n",
       " 'actual',\n",
       " 'take',\n",
       " 'time',\n",
       " 'read',\n",
       " 'play',\n",
       " 'game',\n",
       " 'least',\n",
       " ',',\n",
       " 'heard',\n",
       " 'least',\n",
       " 'track',\n",
       " '.',\n",
       " 'whether',\n",
       " 'awar',\n",
       " ',',\n",
       " 'mitsuda',\n",
       " \"'\",\n",
       " 'music',\n",
       " 'contribut',\n",
       " 'greatli',\n",
       " 'mood',\n",
       " 'everi',\n",
       " 'singl',\n",
       " 'minut',\n",
       " 'whole',\n",
       " 'game',\n",
       " '.',\n",
       " 'compos',\n",
       " '3',\n",
       " 'cd',\n",
       " 'quit',\n",
       " 'song',\n",
       " '(',\n",
       " \"'\",\n",
       " 'exact',\n",
       " 'count',\n",
       " '),',\n",
       " 'heart',\n",
       " '-',\n",
       " 'render',\n",
       " 'impress',\n",
       " 'remark',\n",
       " ',',\n",
       " 'soundtrack',\n",
       " 'one',\n",
       " 'assur',\n",
       " 'forget',\n",
       " '.',\n",
       " 'everyth',\n",
       " 'everi',\n",
       " 'listen',\n",
       " '--',\n",
       " 'fast',\n",
       " '-',\n",
       " 'pace',\n",
       " 'energet',\n",
       " '(',\n",
       " 'danc',\n",
       " 'tokag',\n",
       " 'termina',\n",
       " 'home',\n",
       " '),',\n",
       " 'slower',\n",
       " 'haunt',\n",
       " '(',\n",
       " 'dragon',\n",
       " 'god',\n",
       " '),',\n",
       " 'pure',\n",
       " 'beauti',\n",
       " 'compos',\n",
       " '(',\n",
       " 'time',\n",
       " \"'\",\n",
       " 'scar',\n",
       " '),',\n",
       " 'even',\n",
       " 'fantast',\n",
       " 'vocal',\n",
       " '(',\n",
       " 'radic',\n",
       " 'dreamer',\n",
       " ').',\n",
       " 'one',\n",
       " 'best',\n",
       " 'videogam',\n",
       " 'soundtrack',\n",
       " ',',\n",
       " 'sure',\n",
       " 'mitsuda',\n",
       " \"'\",\n",
       " 'best',\n",
       " 'ever',\n",
       " '.',\n",
       " '^',\n",
       " '_',\n",
       " '^']"
      ]
     },
     "execution_count": 18,
     "metadata": {},
     "output_type": "execute_result"
    }
   ],
   "source": [
    "dataset[5]"
   ]
  },
  {
   "cell_type": "code",
   "execution_count": 19,
   "id": "20ba5951",
   "metadata": {},
   "outputs": [
    {
     "data": {
      "text/plain": [
       "1"
      ]
     },
     "execution_count": 19,
     "metadata": {},
     "output_type": "execute_result"
    }
   ],
   "source": [
    "dataset_labels[0]"
   ]
  },
  {
   "cell_type": "code",
   "execution_count": 20,
   "id": "4a34db2a",
   "metadata": {},
   "outputs": [],
   "source": [
    "class SentimentClassifier:\n",
    "\n",
    "    def __init__(self):\n",
    "        self.vocab = set()\n",
    "        self.class_probs = {}\n",
    "        self.word_counts = {}\n",
    "        self.class_word_counts = {}\n",
    "\n",
    "    def fit(self, dataset, dataset_labels):\n",
    "        assert len(dataset) == len(dataset_labels), \"Dataset and labels not same length.\"\n",
    "        split_idx = int(0.8 * len(dataset))\n",
    "        train_data, train_labels = dataset[:split_idx], dataset_labels[:split_idx]\n",
    "        test_data, test_labels = dataset[split_idx:], dataset_labels[split_idx:]\n",
    "        num_examples = len(train_labels)\n",
    "        classes, counts = zip(*dict.fromkeys(train_labels, 0).items())\n",
    "        for c in train_labels:\n",
    "            self.class_probs[c] = (train_labels.count(c) + 1) / (num_examples + len(classes))\n",
    "        self.word_counts = {c: {} for c in classes}\n",
    "        self.class_word_counts = {c: 0 for c in classes}\n",
    "        for x, c in zip(train_data, train_labels):\n",
    "            self.class_word_counts[c] += len(x)\n",
    "            for word in x:\n",
    "                self.vocab.add(word)\n",
    "                if word not in self.word_counts[c]:\n",
    "                    self.word_counts[c][word] = 0\n",
    "                self.word_counts[c][word] += 1\n",
    "        # print(\"Vocabulary:\", self.vocab)\n",
    "        # print(\"Class probabilities:\", self.class_probs)\n",
    "        # print(\"Word counts:\", self.word_counts)\n",
    "        # print(\"Class word counts:\", self.class_word_counts)\n",
    "    def predict(self, dataset):\n",
    "        predictions = []\n",
    "        for x in dataset:\n",
    "            scores = {c: math.log(self.class_probs[c]) for c in self.class_probs}\n",
    "            for word in x:\n",
    "                if word not in self.vocab:\n",
    "                    continue\n",
    "                for c in self.class_probs:\n",
    "                    count = self.word_counts[c].get(word, 0) + 1\n",
    "                    scores[c] += math.log(count / (self.class_word_counts[c] + len(self.vocab)))\n",
    "            predictions.append(max(scores, key=scores.get))\n",
    "        return predictions\n",
    "    def predict_single(self, text):\n",
    "        words = text.strip().split()\n",
    "        score = defaultdict(float)\n",
    "        for c in self.class_probs:\n",
    "            score[c] = math.log(self.class_probs[c])\n",
    "            for word in words:\n",
    "                if word in self.vocab:\n",
    "                    count = self.word_counts[c].get(word, 0) + 1\n",
    "                    score[c] += math.log(count / (self.class_word_counts[c] + len(self.vocab)))\n",
    "            pred_label = max(score, key=score.get)\n",
    "            prob_positive = math.exp(score[1]) / (math.exp(score[1]) + math.exp(score[0]))\n",
    "            prob_negative = math.exp(score[0]) / (math.exp(score[1]) + math.exp(score[0]))\n",
    "        return pred_label, prob_positive, prob_negative\n",
    "\n",
    "    \n",
    "    def predict_text(self, text):\n",
    "        pred_label, prob_positive, prob_negative = self.predict_single(text)\n",
    "        print(f\"Prediction: {pred_label}\\nP(Positive|S): {prob_positive:.2f}\\nP(Negative|S): {prob_negative:.2f}\")"
   ]
  },
  {
   "cell_type": "code",
   "execution_count": 21,
   "id": "6119ae84",
   "metadata": {},
   "outputs": [],
   "source": [
    "clf = SentimentClassifier()\n",
    "clf.fit(dataset, dataset_labels)\n",
    "predictions = clf.predict(dataset)"
   ]
  },
  {
   "cell_type": "code",
   "execution_count": 22,
   "id": "505ad338",
   "metadata": {},
   "outputs": [],
   "source": [
    "split_idx = int(0.8 * len(dataset))\n",
    "test_data, test_labels = dataset[split_idx:], dataset_labels[split_idx:]\n",
    "test_predictions = clf.predict(test_data)"
   ]
  },
  {
   "cell_type": "code",
   "execution_count": 23,
   "id": "105dad9f",
   "metadata": {},
   "outputs": [],
   "source": [
    "tp, tn, fp, fn = 0, 0, 0, 0\n",
    "for true_label, pred_label in zip(test_labels, test_predictions):\n",
    "    if true_label == 1 and pred_label == 1:\n",
    "        tp += 1\n",
    "    elif true_label == 0 and pred_label == 0:\n",
    "        tn += 1\n",
    "    elif true_label == 1 and pred_label == 0:\n",
    "        fn += 1\n",
    "    elif true_label == 0 and pred_label == 1:\n",
    "        fp += 1"
   ]
  },
  {
   "cell_type": "code",
   "execution_count": 24,
   "id": "69863de5",
   "metadata": {
    "scrolled": true
   },
   "outputs": [],
   "source": [
    "sensitivity = tp / (tp + fn)\n",
    "specificity = tn / (tn + fp)\n",
    "precision = tp / (tp + fp)\n",
    "npv = tn / (tn + fn)\n",
    "accuracy = (tp + tn) / (tp + tn + fp + fn)\n",
    "f_score = 2 * precision * sensitivity / (precision + sensitivity)"
   ]
  },
  {
   "cell_type": "code",
   "execution_count": 25,
   "id": "ed5ceb82",
   "metadata": {
    "scrolled": false
   },
   "outputs": [
    {
     "name": "stdout",
     "output_type": "stream",
     "text": [
      "+---------------------------+-------+\n",
      "|           Metric          | Value |\n",
      "+---------------------------+-------+\n",
      "|       True positives      |  8488 |\n",
      "|       True negatives      |  8212 |\n",
      "|      False positives      |  1536 |\n",
      "|      False negatives      |  1764 |\n",
      "|    Sensitivity (recall)   |  0.83 |\n",
      "|        Specificity        |  0.84 |\n",
      "|         Precision         |  0.85 |\n",
      "| Negative predictive value |  0.82 |\n",
      "|          Accuracy         |  0.83 |\n",
      "|          F-score          |  0.84 |\n",
      "+---------------------------+-------+\n"
     ]
    }
   ],
   "source": [
    "table = PrettyTable()\n",
    "table.field_names = [\"Metric\", \"Value\"]\n",
    "table.add_row([\"True positives\", tp])\n",
    "table.add_row([\"True negatives\", tn])\n",
    "table.add_row([\"False positives\", fp])\n",
    "table.add_row([\"False negatives\", fn])\n",
    "table.add_row([\"Sensitivity (recall)\", \"{:.2f}\".format(sensitivity)])\n",
    "table.add_row([\"Specificity\", \"{:.2f}\".format(specificity)])\n",
    "table.add_row([\"Precision\", \"{:.2f}\".format(precision)])\n",
    "table.add_row([\"Negative predictive value\", \"{:.2f}\".format(npv)])\n",
    "table.add_row([\"Accuracy\", \"{:.2f}\".format(accuracy)])\n",
    "table.add_row([\"F-score\", \"{:.2f}\".format(f_score)])\n",
    "print(table)"
   ]
  },
  {
   "cell_type": "code",
   "execution_count": 26,
   "id": "76413717",
   "metadata": {},
   "outputs": [
    {
     "name": "stdout",
     "output_type": "stream",
     "text": [
      "Enter a text to classify (or N to quit): N\n"
     ]
    }
   ],
   "source": [
    "while True:\n",
    "    text = input(\"Enter a text to classify (or N to quit): \")\n",
    "    if text == 'N':\n",
    "        break\n",
    "    clf.predict_text(text)\n"
   ]
  },
  {
   "cell_type": "code",
   "execution_count": null,
   "id": "0f01e8a5",
   "metadata": {},
   "outputs": [],
   "source": []
  }
 ],
 "metadata": {
  "kernelspec": {
   "display_name": "Python 3 (ipykernel)",
   "language": "python",
   "name": "python3"
  },
  "language_info": {
   "codemirror_mode": {
    "name": "ipython",
    "version": 3
   },
   "file_extension": ".py",
   "mimetype": "text/x-python",
   "name": "python",
   "nbconvert_exporter": "python",
   "pygments_lexer": "ipython3",
   "version": "3.9.16"
  }
 },
 "nbformat": 4,
 "nbformat_minor": 5
}
